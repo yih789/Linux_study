{
 "cells": [
  {
   "cell_type": "markdown",
   "id": "bc1378f4",
   "metadata": {},
   "source": [
    "## · 포트: 데이터가 오고가는 통로(입구)\n",
    "- port: 0부터 65535까지 존재하고, 0~1024가 잘 알려진 포트이다."
   ]
  },
  {
   "cell_type": "markdown",
   "id": "645958a7",
   "metadata": {},
   "source": [
    "naver.com = naver.com:80  \n",
    "==> 접속 가능\n",
    "\n",
    "naver.com:8888  \n",
    "==> 접속 불가능\n",
    "\n",
    "~$ ssh -p 22 egoing@192.11.0.65\n",
    "\n",
    "==> 접속 가능  \n",
    "==> 기본적으로 ssh는 22번 포트로 접속 가능하다."
   ]
  }
 ],
 "metadata": {
  "kernelspec": {
   "display_name": "Python 3 (ipykernel)",
   "language": "python",
   "name": "python3"
  },
  "language_info": {
   "codemirror_mode": {
    "name": "ipython",
    "version": 3
   },
   "file_extension": ".py",
   "mimetype": "text/x-python",
   "name": "python",
   "nbconvert_exporter": "python",
   "pygments_lexer": "ipython3",
   "version": "3.8.12"
  }
 },
 "nbformat": 4,
 "nbformat_minor": 5
}
