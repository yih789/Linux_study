{
 "cells": [
  {
   "cell_type": "markdown",
   "id": "193fca0a",
   "metadata": {},
   "source": [
    "## < 포트 포워딩 >\n",
    "통신사(kt, lg, skt) => Router(공유기)[default gateway] => 전자기기(핸드폰, 노트북, 데스크탑 등등)  \n",
    "\n",
    "==> 이때 router는 public ip를 갖고, 각각의 전자기기는 각각의 private ip를 부여받는다.  \n",
    "==> 원래 외부에서는 public ip에만 접근이 가능하지만 포트포워딩을 통해 private ip에 접속 가능하다."
   ]
  },
  {
   "cell_type": "markdown",
   "id": "0e5465c1",
   "metadata": {},
   "source": [
    "- 사용자 - 공유기(port: 9000) - 노트북(port: 80)  \n",
    "==> 사용자가 공유기의 9000포트로 접속하면 192.168.04:80와 같은 private ip의 80번 포트로 연결되어 접속할 수 있다."
   ]
  },
  {
   "cell_type": "markdown",
   "id": "8df57fe0",
   "metadata": {},
   "source": [
    "## <포트 포워딩 실습 >\n",
    "~$ ip addr: 내 컴퓨터의 private ip\n",
    "\n",
    "~$ curl http://ipinfo.io/ip: 자신이 접속한 공유기(router)의 public ip(외부에서 보는 나의ip 주소)\n",
    "\n",
    "==> public ip와 private ip가 같다면 라우터 없이 통신사가 제공한 하나의 회선이 하나의 컴퓨터에 연결된 것이다.(서버로 사용하기 적합)  \n",
    "==> public ip와 private ip가 다르다면 통신사가 제공한 하나의 회선이 라우터로 연결되어 내 컴퓨터에 연결된 것이다.(서버로 사용하기 부적합)"
   ]
  },
  {
   "cell_type": "markdown",
   "id": "908223f9",
   "metadata": {},
   "source": [
    "~$ ip route: 자신이 접속한 공유기의 정보를 볼 수 있다."
   ]
  }
 ],
 "metadata": {
  "kernelspec": {
   "display_name": "Python 3 (ipykernel)",
   "language": "python",
   "name": "python3"
  },
  "language_info": {
   "codemirror_mode": {
    "name": "ipython",
    "version": 3
   },
   "file_extension": ".py",
   "mimetype": "text/x-python",
   "name": "python",
   "nbconvert_exporter": "python",
   "pygments_lexer": "ipython3",
   "version": "3.8.12"
  }
 },
 "nbformat": 4,
 "nbformat_minor": 5
}
