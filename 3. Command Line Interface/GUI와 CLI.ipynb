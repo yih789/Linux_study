{
 "cells": [
  {
   "cell_type": "markdown",
   "id": "523a1506",
   "metadata": {},
   "source": [
    "## · GUI vs CLI\n",
    "- GUI: 그래픽 인터페이스, 직관적이고 배우기 쉽다.  \n",
    "순차적인 작업이 있을 때 언제 끝날지 모르는 작업을 기다렸다가 다음 작업을 직접 \n",
    "시작해주는 노동이 필요하다. 따라서 많은 작업에 적합하지 않다.\n",
    "- CLI: 명령창 인터페이스, 어렵게 느껴진다.  \n",
    "순차적인 프로세스의 자동화가 가능하여 끝날 때까지 신경쓰지 않아도 된다."
   ]
  },
  {
   "cell_type": "markdown",
   "id": "c22d937f",
   "metadata": {},
   "source": [
    "< 순차적 실행 >\n",
    "1. mkdir why\n",
    "2. cd why\n",
    "3. touch empty.txt\n",
    "==> mkdir why; cd why; touch empty.txt;  \n",
    "세미콜론(;)을 통해서 여러 명령을 한 번에 수행할 수 있다."
   ]
  },
  {
   "cell_type": "markdown",
   "id": "245e9a7b",
   "metadata": {},
   "source": [
    "## · greb: 대용량 데이터 속에서 내가 원하는 내용이 포함된 부분만 출력\n",
    "~$ greb **찾는키워드** **찾는파일명**  \n",
    "ex) greb linux linux.txt: linux.txt 파일에서 linux가 포함된 부분 출력"
   ]
  },
  {
   "cell_type": "markdown",
   "id": "e719756d",
   "metadata": {},
   "source": [
    "## * 파이프라인: 여러 개의 프로그램을 연결\n",
    "ex) ls --help의 내용 중 sort가 포함된 내용만 보고싶다.  \n",
    "~$ ls --help | greb sort  \n",
    "\n",
    "ex) ls --help의 내용 중 sort가 포함된 부분 중에서 file이 포함된 내용만 보고싶다.   \n",
    "~$ ls --help | greb sort | greb file"
   ]
  },
  {
   "cell_type": "markdown",
   "id": "42d0e111",
   "metadata": {},
   "source": [
    "## · 번외\n",
    "1. cat 파일명: 해당 파일의 내용을 출력해준다.\n",
    "2. ps: 현재 실행되는 프로세스 목록\n",
    "2. ps aux: 현재 실행되는 프로세스 목록의 전체를 자세하고 그래픽하게 출력  \n",
    "~$ ps aux | grep apache"
   ]
  }
 ],
 "metadata": {
  "kernelspec": {
   "display_name": "Python 3 (ipykernel)",
   "language": "python",
   "name": "python3"
  },
  "language_info": {
   "codemirror_mode": {
    "name": "ipython",
    "version": 3
   },
   "file_extension": ".py",
   "mimetype": "text/x-python",
   "name": "python",
   "nbconvert_exporter": "python",
   "pygments_lexer": "ipython3",
   "version": "3.8.12"
  }
 },
 "nbformat": 4,
 "nbformat_minor": 5
}
