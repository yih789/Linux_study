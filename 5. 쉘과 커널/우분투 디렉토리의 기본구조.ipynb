{
 "cells": [
  {
   "cell_type": "markdown",
   "id": "517c600d",
   "metadata": {},
   "source": [
    "1. / - Root\n",
    "2. /bin - User Binaries: 이진수 파일 즉, 실행가능한 파일. 사용자가 사용할 수 있는 명령들이 포함\n",
    "3. /sbin - System Binaries: 시스템 관리\n",
    "4. /etc - Configuration Files: 설정 관리\n",
    "5. /dev - Device Files\n",
    "6. /proc - Process Information\n",
    "7. /var - Variable Files\n",
    "8. /tmp - Temporary Files: 임시 파일, 재부팅하면 사라지는 파일\n",
    "9. /usr - User Programs\n",
    "10. /home - Home Directories: 사용자 개인 파일 저장소, /home/ubuntu로 바로 가려면 'cd ~'사용\n",
    "11. /boot - Boot Loader Files\n",
    "12. /lib - System Libraries: 공통적으로 사용하는 것들.\n",
    "13. /opt - Optional add-on Applications\n",
    "14. /mnt - Mount Directory\n",
    "15. /media\n",
    "16. /srv"
   ]
  }
 ],
 "metadata": {
  "kernelspec": {
   "display_name": "Python 3 (ipykernel)",
   "language": "python",
   "name": "python3"
  },
  "language_info": {
   "codemirror_mode": {
    "name": "ipython",
    "version": 3
   },
   "file_extension": ".py",
   "mimetype": "text/x-python",
   "name": "python",
   "nbconvert_exporter": "python",
   "pygments_lexer": "ipython3",
   "version": "3.8.12"
  }
 },
 "nbformat": 4,
 "nbformat_minor": 5
}
