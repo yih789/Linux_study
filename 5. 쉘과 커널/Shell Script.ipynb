{
 "cells": [
  {
   "cell_type": "markdown",
   "id": "0e6c61db",
   "metadata": {},
   "source": [
    "## · shell script: 한 가지 이상의 일련의 동작을 수행하기 위한 절차를 정의해 놓은 것."
   ]
  },
  {
   "cell_type": "markdown",
   "id": "68a1634b",
   "metadata": {},
   "source": [
    "ex) 현재 디렉토리에 있는 a.log, b.log, c.log를 주기적으로 다른 파일에 백업하려고 한다.\n",
    "현재 디릭토리에 bak 파일이 있으면 그 안에 로그파일을 복사하고, bak 파일이 없다면 새로 디렉토리를 생성하고 그 안에 모든 로그파일을 복사한다."
   ]
  },
  {
   "cell_type": "markdown",
   "id": "555b97fa",
   "metadata": {},
   "source": [
    "<일련과정>\n",
    "1. 현재 디렉토리에 bak 파일이 있는지 없는지 확인한다.\n",
    "2. bak 파일 안에 *.log을 복사한다.\n",
    "\n",
    "==> 위의 두 과정을 하나의 script로 정의하여 실행하도록 한다.  \n",
    "~$ nano backup: script를 정의한 backup 파일을 생성"
   ]
  },
  {
   "cell_type": "markdown",
   "id": "5cd3b5fe",
   "metadata": {},
   "source": [
    "### [ backup ]\n",
    "#!/bin/bash  \n",
    "\n",
    "if ! [ -d bak ]; then #bak 디렉토리가 없다면  \n",
    "        mkdir bak # bak 생성  \n",
    "fi  \n",
    "\n",
    "cp *.log bak  # 모든 log파일 복사"
   ]
  },
  {
   "cell_type": "markdown",
   "id": "e70b911d",
   "metadata": {},
   "source": []
  },
  {
   "cell_type": "markdown",
   "id": "a9147cd1",
   "metadata": {},
   "source": [
    "+ 실행방법\n",
    "\n",
    "~$ chmod +x backup: backup 파일을 실행가능한 파일로 변경해준다.\n",
    "\n",
    "~$ ./backup: 실행한다."
   ]
  }
 ],
 "metadata": {
  "kernelspec": {
   "display_name": "Python 3 (ipykernel)",
   "language": "python",
   "name": "python3"
  },
  "language_info": {
   "codemirror_mode": {
    "name": "ipython",
    "version": 3
   },
   "file_extension": ".py",
   "mimetype": "text/x-python",
   "name": "python",
   "nbconvert_exporter": "python",
   "pygments_lexer": "ipython3",
   "version": "3.8.12"
  }
 },
 "nbformat": 4,
 "nbformat_minor": 5
}
