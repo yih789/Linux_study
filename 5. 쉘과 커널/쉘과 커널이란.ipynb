{
 "cells": [
  {
   "cell_type": "markdown",
   "id": "06dc2122",
   "metadata": {},
   "source": [
    "## · shell ↔ kernel ↔ hardware"
   ]
  },
  {
   "cell_type": "markdown",
   "id": "3f9da403",
   "metadata": {},
   "source": [
    "\\- shell: 사용자가 명령을 입력하기 위한 창 또는 사용자가 입력한 명령을 분석, 이해하고\n",
    "kernel이 이해할 수 있는 언어로 변경해주는 역할  \n",
    "\\- kernel: shell의 명령을 하드웨어로 전달하고 하드웨어로부터 결과를 받아 shell에게 전달하는 역할"
   ]
  },
  {
   "cell_type": "markdown",
   "id": "a0c1327e",
   "metadata": {},
   "source": [
    "### + 사용자는 다양한 종류의 셀을 사용할 수 있고, 셀마다 편이성이 달라 골라 사용하면 된다.\n",
    "> echo $0: 내가 사용하고 있는 shell의 종류 출력  \n",
    "주로 bash 사용"
   ]
  }
 ],
 "metadata": {
  "kernelspec": {
   "display_name": "Python 3 (ipykernel)",
   "language": "python",
   "name": "python3"
  },
  "language_info": {
   "codemirror_mode": {
    "name": "ipython",
    "version": 3
   },
   "file_extension": ".py",
   "mimetype": "text/x-python",
   "name": "python",
   "nbconvert_exporter": "python",
   "pygments_lexer": "ipython3",
   "version": "3.8.12"
  }
 },
 "nbformat": 4,
 "nbformat_minor": 5
}
