{
 "cells": [
  {
   "cell_type": "markdown",
   "id": "4439d285",
   "metadata": {},
   "source": [
    "## · super(root) user VS user\n",
    "- sudo: 일시적으로 super user의 권한을 갖는 것이지만 아무나 사용할 수 있는게 아니다.  \n",
    "super user의 권한을 갖을 수 있는 user가 사용할 수 있다.(sudo 그룹에 포함)\n",
    "\n",
    "~$: 일반 user를 의미\n",
    "\n",
    "~#: super user를 의미"
   ]
  },
  {
   "cell_type": "markdown",
   "id": "727534b2",
   "metadata": {},
   "source": [
    "## · su: 사용자를 변경"
   ]
  },
  {
   "cell_type": "markdown",
   "id": "5208c0b0",
   "metadata": {},
   "source": [
    "~$ su - root: 루트 사용자로 변경\n",
    "\n",
    "~$ pw 입력: su 명령어로 사용자를 변경하면 사용자의 pw를 입력하게 한다.  \n",
    "==> pw를 설정하지 않았다면 passwd 명령어로 설정한다.\n",
    "\n",
    "root@ip:~#이 되면 루트 사용자가 되었음을 의미한다.  \n",
    "~$ exit: 로그아웃"
   ]
  },
  {
   "cell_type": "markdown",
   "id": "7f7eddd6",
   "metadata": {},
   "source": [
    "## · passwd: 비밀번호를 설정 명령어\n",
    "~$ sudo passwd 사용자명: 해당 사용자의 비밀번호를 설정한다."
   ]
  },
  {
   "cell_type": "markdown",
   "id": "fed38b0f",
   "metadata": {},
   "source": [
    "~$ sudo passwd -u  root: 루트 사용자 unlock  \n",
    "==> root 권한으로 명령어를 수행하면 위험할 수 있으므로 일반적으로 운영체제에서 root 사용을 lock 해놓기 때문에  \n",
    "unlock 명령어를 수행해 주어야 su - root 명령어를 사용할 수 있다.\n",
    "\n",
    "~$ sudo passwd -l root: 루트 사용자 lock"
   ]
  },
  {
   "cell_type": "markdown",
   "id": "3d3f14c7",
   "metadata": {},
   "source": []
  },
  {
   "cell_type": "markdown",
   "id": "e915f73a",
   "metadata": {},
   "source": [
    "~$ id: 식별자  \n",
    "\n",
    "~$ who: 접속한 사용자 목록  \n",
    "\n",
    "~$ whoami: 현재 사용자가 누구인지  "
   ]
  }
 ],
 "metadata": {
  "kernelspec": {
   "display_name": "Python 3 (ipykernel)",
   "language": "python",
   "name": "python3"
  },
  "language_info": {
   "codemirror_mode": {
    "name": "ipython",
    "version": 3
   },
   "file_extension": ".py",
   "mimetype": "text/x-python",
   "name": "python",
   "nbconvert_exporter": "python",
   "pygments_lexer": "ipython3",
   "version": "3.8.12"
  }
 },
 "nbformat": 4,
 "nbformat_minor": 5
}
