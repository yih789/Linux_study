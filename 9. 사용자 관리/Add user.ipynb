{
 "cells": [
  {
   "cell_type": "markdown",
   "id": "9f294409",
   "metadata": {},
   "source": [
    "## · useradd: 사용자를 추가하는 명령어\n",
    "~$ sudo useradd -m duru: duru라는 사용자를 추가하면서 duru의 home 디렉토리도 만들어준다.\n",
    "\n",
    "~$ sudo passwd duru: duru의 pw를 설정\n",
    "\n",
    "~$ su - duru: 사용자 변경"
   ]
  },
  {
   "cell_type": "markdown",
   "id": "e8524215",
   "metadata": {},
   "source": [
    "==> 이때 duru 사용자를 추가하고 개인 home 디렉토리도 만들어줬지만 sudo권한자로 설정하지 않았기 때문에  \n",
    "duru 사용자로 sudo 명령을 실행하면\n",
    "> duru is not in the sudoers file.  This incident will be reported.\n",
    "\n",
    "오류 발생"
   ]
  },
  {
   "cell_type": "markdown",
   "id": "ab9b052d",
   "metadata": {},
   "source": [
    "## · sudo 그룹에 사용자 추가\n",
    "- sudo를 사용할 수 있는 사용자 상태에서  \n",
    "\n",
    "~$ sudo usermod -a -G sudo duru"
   ]
  }
 ],
 "metadata": {
  "kernelspec": {
   "display_name": "Python 3 (ipykernel)",
   "language": "python",
   "name": "python3"
  },
  "language_info": {
   "codemirror_mode": {
    "name": "ipython",
    "version": 3
   },
   "file_extension": ".py",
   "mimetype": "text/x-python",
   "name": "python",
   "nbconvert_exporter": "python",
   "pygments_lexer": "ipython3",
   "version": "3.8.12"
  }
 },
 "nbformat": 4,
 "nbformat_minor": 5
}
