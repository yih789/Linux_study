{
 "cells": [
  {
   "cell_type": "markdown",
   "id": "bbb453f1",
   "metadata": {},
   "source": [
    "### · 파일의 권한과 비슷하다. u, g, o에 대한 r, w, x 권한을 설정한다."
   ]
  },
  {
   "cell_type": "markdown",
   "id": "b82375a5",
   "metadata": {},
   "source": [
    "drwxrwx--x 2 ubuntu ubuntu     4096 Dec  2 00:57 perm"
   ]
  },
  {
   "cell_type": "markdown",
   "id": "91497e4f",
   "metadata": {},
   "source": [
    "~$ chmod o+r  \n",
    "=> 해당 디렉토리의 **파일목록 읽기** 권한  \n",
    "=> -r: ls 및 파일읽기가 모두 거부\n",
    "\n",
    "~$ chmod o+w  \n",
    "=> 해당 디렉토리에 **파일 생성 및 삭제** 권한  \n",
    "=> -w: rm, touch, nano 거부\n",
    "\n",
    "~$ chmod o+x  \n",
    "=> 해당 디렉토리에 대한 **접근** 권한  \n",
    "=> -x: cd 거부"
   ]
  },
  {
   "cell_type": "markdown",
   "id": "427c432d",
   "metadata": {},
   "source": [
    "### · + 디렉토리의 하위 디렉토리까지 모두 chmod를 적용하기\n",
    "~$ chmod -R o+w perm"
   ]
  }
 ],
 "metadata": {
  "kernelspec": {
   "display_name": "Python 3 (ipykernel)",
   "language": "python",
   "name": "python3"
  },
  "language_info": {
   "codemirror_mode": {
    "name": "ipython",
    "version": 3
   },
   "file_extension": ".py",
   "mimetype": "text/x-python",
   "name": "python",
   "nbconvert_exporter": "python",
   "pygments_lexer": "ipython3",
   "version": "3.8.12"
  }
 },
 "nbformat": 4,
 "nbformat_minor": 5
}
