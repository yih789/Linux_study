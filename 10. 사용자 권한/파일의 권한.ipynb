{
 "cells": [
  {
   "cell_type": "markdown",
   "id": "e7adbc4f",
   "metadata": {},
   "source": [
    "## < Permission >\n",
    "- File & Directory에 대한 Read & Write & Excute 가능을 정의한다."
   ]
  },
  {
   "cell_type": "markdown",
   "id": "49bbcae9",
   "metadata": {},
   "source": [
    "~$ sudo su - duru: duru 사용자로 접속\n",
    "\n",
    "~$ cd /home/ubuntu: ubuntu 사용자의 디렉토리 접근\n",
    "\n",
    "~$ echo 'hello' > perm.txt: ubuntu 사용자의 perm.txt 파일에 쓰기 시도\n",
    "\n",
    "> -sh: 15: cannot create perm.txt: Permission denied  \n",
    "권한 거부\n",
    "\n",
    "why?"
   ]
  },
  {
   "cell_type": "markdown",
   "id": "76ed8e0f",
   "metadata": {},
   "source": [
    "~$ ls -l perm.txt\n",
    "\n",
    "[ 결과 ]  \n",
    "-rw-rw-r-- 1 ubuntu ubuntu 3 Dec  2 00:04 perm.txt  \n",
    "\n",
    "==> other의 권한이 읽기만 있고 쓰기는 불가능"
   ]
  },
  {
   "cell_type": "code",
   "execution_count": null,
   "id": "0e45ed4f",
   "metadata": {},
   "outputs": [],
   "source": [
    " "
   ]
  },
  {
   "cell_type": "markdown",
   "id": "71c01b8a",
   "metadata": {},
   "source": [
    "[ 결과 분석 ]  \n",
    "\\- | rw- | rw- | r-- | 1 | ubuntu ubuntu | 3 | Dec 2 00:04 | perm.txt"
   ]
  },
  {
   "cell_type": "markdown",
   "id": "4ce353ff",
   "metadata": {},
   "source": [
    "1. \\- : type을 의미('-'=file, 'd'=directory)  \n",
    "=> --- : rwx를 의미한다.\n",
    "2. rw- : owner의 권한을 의미하고 (읽고r 쓰기w)가능, excute x\n",
    "3. rw- : group의 권한을 의미하고 (읽고r 쓰기w)가능, excute x\n",
    "4. r-- : 운영체제 안의 모든 사용자를 의미하고 (읽기r)만 가능\n",
    "5. 첫 번째 ubuntu: owner\n",
    "6. 두 번째 ubuntu: group"
   ]
  }
 ],
 "metadata": {
  "kernelspec": {
   "display_name": "Python 3 (ipykernel)",
   "language": "python",
   "name": "python3"
  },
  "language_info": {
   "codemirror_mode": {
    "name": "ipython",
    "version": 3
   },
   "file_extension": ".py",
   "mimetype": "text/x-python",
   "name": "python",
   "nbconvert_exporter": "python",
   "pygments_lexer": "ipython3",
   "version": "3.8.12"
  }
 },
 "nbformat": 4,
 "nbformat_minor": 5
}
