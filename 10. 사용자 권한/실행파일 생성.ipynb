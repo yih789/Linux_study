{
 "cells": [
  {
   "cell_type": "markdown",
   "id": "bb41a636",
   "metadata": {},
   "source": [
    "ex) bash의 언어로 작성된 bash 프로그램 hi-machine.sh를 실행시키려면  \n",
    "~$ /bin/bash hi-machine.sh 실행되지만\n",
    "\n",
    "~$ ./hi-machine.sh는 권한 거부 된다.\n",
    "\n",
    "[방법]  \n",
    "- hi-machine.sh를 실행파일로 만든다.\n",
    "\n",
    "~$ chmod u+x hi-machine.sh\n",
    "\n",
    "~$ ./hi-machine.sh"
   ]
  }
 ],
 "metadata": {
  "kernelspec": {
   "display_name": "Python 3 (ipykernel)",
   "language": "python",
   "name": "python3"
  },
  "language_info": {
   "codemirror_mode": {
    "name": "ipython",
    "version": 3
   },
   "file_extension": ".py",
   "mimetype": "text/x-python",
   "name": "python",
   "nbconvert_exporter": "python",
   "pygments_lexer": "ipython3",
   "version": "3.8.12"
  }
 },
 "nbformat": 4,
 "nbformat_minor": 5
}
