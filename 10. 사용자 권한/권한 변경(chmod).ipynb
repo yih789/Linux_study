{
 "cells": [
  {
   "cell_type": "markdown",
   "id": "1ee33bfb",
   "metadata": {},
   "source": [
    "## · chmod\n",
    "- 사용자 u(user), g(group), o(other)에 대해서 r, w, x 권한을 바꿀 수 있다.\n",
    "\n",
    "=> -(권한 뺏기), +(권한 주기)\n",
    "\n",
    "~$ chmod o-r perm.txt\n",
    "\n",
    "~$ chmod o+w perm.txt\n",
    "\n",
    "~$ chmod u-r perm.txt"
   ]
  },
  {
   "cell_type": "markdown",
   "id": "1de52454",
   "metadata": {},
   "source": [
    "## · 추가적인 chmod syntax"
   ]
  },
  {
   "cell_type": "markdown",
   "id": "2e4956f3",
   "metadata": {},
   "source": [
    "### 1. 8진법\n",
    "\n",
    "0 ---  \n",
    "1 --x  \n",
    "2 -w-  \n",
    "3 -wx  \n",
    "4 r--  \n",
    "5 r-x  \n",
    "6 rw-  \n",
    "7 rwx"
   ]
  },
  {
   "cell_type": "markdown",
   "id": "f54f3d72",
   "metadata": {},
   "source": [
    "~$ chmod 123 perm.txt  \n",
    "==> u, g, o에 대해서 123로 한 번에 권한을 설정한다."
   ]
  },
  {
   "cell_type": "markdown",
   "id": "ddfc4958",
   "metadata": {},
   "source": [
    "### 2. a(all)와 -, +, = 연산자 이용\n",
    "~$ chmod a-r perm.txt\n",
    "\n",
    "~$ chmod a+w perm.txt\n",
    "\n",
    "~$ chmod a=rwx perm.txt"
   ]
  }
 ],
 "metadata": {
  "kernelspec": {
   "display_name": "Python 3 (ipykernel)",
   "language": "python",
   "name": "python3"
  },
  "language_info": {
   "codemirror_mode": {
    "name": "ipython",
    "version": 3
   },
   "file_extension": ".py",
   "mimetype": "text/x-python",
   "name": "python",
   "nbconvert_exporter": "python",
   "pygments_lexer": "ipython3",
   "version": "3.8.12"
  }
 },
 "nbformat": 4,
 "nbformat_minor": 5
}
