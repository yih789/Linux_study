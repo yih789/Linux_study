{
 "cells": [
  {
   "cell_type": "markdown",
   "id": "202a9690",
   "metadata": {},
   "source": [
    "## < freenom 사이트 > 회원가입\n",
    "- 사용 가능한 도메인 name을 검색하여 구매(12개월까지 무료)\n",
    "\n",
    "구매한 도메인에 접속하려는 ip 주소 저장  \n",
    "==> public ip 주소 사용해야 한다."
   ]
  }
 ],
 "metadata": {
  "kernelspec": {
   "display_name": "Python 3 (ipykernel)",
   "language": "python",
   "name": "python3"
  },
  "language_info": {
   "codemirror_mode": {
    "name": "ipython",
    "version": 3
   },
   "file_extension": ".py",
   "mimetype": "text/x-python",
   "name": "python",
   "nbconvert_exporter": "python",
   "pygments_lexer": "ipython3",
   "version": "3.8.12"
  }
 },
 "nbformat": 4,
 "nbformat_minor": 5
}
