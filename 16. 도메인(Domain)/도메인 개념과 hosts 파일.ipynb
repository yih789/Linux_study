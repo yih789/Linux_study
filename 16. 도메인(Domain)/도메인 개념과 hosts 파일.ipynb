{
 "cells": [
  {
   "cell_type": "markdown",
   "id": "8ded4a30",
   "metadata": {},
   "source": [
    "## · DNS(Domain Name System)\n",
    "- ip 주소에 이름을 부여하는 시스템\n",
    "\n",
    "ex) google.com => 216.58.197.174  \n",
    "==> 사용자가 구글에 접속하기 위해서는 위의 ip 주소로 접근해야 하는데 ip 주소를 외우기는 힘들기 때문에 ip 주소마다 이름을 부여한다. 마치 전화를 걸 때 번호가 아니라 이름을 선택하는 것과 같다.\n",
    "\n",
    "==> 사용자가 google.com을 입력하면 컴퓨터는 DNS DB에 접속하여 google.com에 해당하는 ip 주소를 찾아 접근한다."
   ]
  },
  {
   "cell_type": "markdown",
   "id": "cde6c817",
   "metadata": {},
   "source": [
    "#### < hosts 파일 > : 도메인 정보를 저장하는 파일\n",
    "\n",
    "~$ sudo nano /etc/hosts  \n",
    "==> 127.0.0.1 google.com 도메인 추가\n",
    "\n",
    "~$ elinks google.com  \n",
    "==> 나의 ip 주소 localhost(127.0.0.1)의 서버로 접속하게 된다."
   ]
  },
  {
   "cell_type": "code",
   "execution_count": null,
   "id": "a4b30ae0",
   "metadata": {},
   "outputs": [],
   "source": []
  },
  {
   "cell_type": "markdown",
   "id": "a00b04ce",
   "metadata": {},
   "source": [
    "~$ host naver.com: 해당 도메인의 ip 주소를 알 수 있다."
   ]
  }
 ],
 "metadata": {
  "kernelspec": {
   "display_name": "Python 3 (ipykernel)",
   "language": "python",
   "name": "python3"
  },
  "language_info": {
   "codemirror_mode": {
    "name": "ipython",
    "version": 3
   },
   "file_extension": ".py",
   "mimetype": "text/x-python",
   "name": "python",
   "nbconvert_exporter": "python",
   "pygments_lexer": "ipython3",
   "version": "3.8.12"
  }
 },
 "nbformat": 4,
 "nbformat_minor": 5
}
