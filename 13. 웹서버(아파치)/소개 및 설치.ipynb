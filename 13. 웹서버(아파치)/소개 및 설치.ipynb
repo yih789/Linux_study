{
 "cells": [
  {
   "cell_type": "markdown",
   "id": "d92dff22",
   "metadata": {},
   "source": [
    "- apache 설치  \n",
    "\n",
    "~$ sudo apt-get update: 새로운 패키지 설치 전 update 하는 것이 좋다.\n",
    "\n",
    "~$ sudo apt-get install apache2"
   ]
  },
  {
   "cell_type": "markdown",
   "id": "2e018fd1",
   "metadata": {},
   "source": [
    "- apache 구동  \n",
    "\n",
    "~$ sudo service apache2 start\n",
    "\n",
    "~$ sudo service apache2 stop\n",
    "\n",
    "~$ sudo service apache2 restart"
   ]
  },
  {
   "cell_type": "markdown",
   "id": "3292044a",
   "metadata": {},
   "source": []
  },
  {
   "cell_type": "markdown",
   "id": "f5226ce6",
   "metadata": {},
   "source": [
    "~$ sudo htop  \n",
    "- apache2를 필터링 해보면 여러 개의 apache2가 실행되고 있는 것을 확인  \n",
    "==> 많은 접속이 발생하는 프로그램이므로 이를 분산 처리하기 위해 여러 개의\n",
    "apache2 프로그램이 자동으로 실행된다."
   ]
  },
  {
   "cell_type": "markdown",
   "id": "bbc25667",
   "metadata": {},
   "source": [
    "### < shell에서 웹 브라우저 사용 >"
   ]
  },
  {
   "cell_type": "markdown",
   "id": "8b483616",
   "metadata": {},
   "source": [
    "~$ sudo apt-get install elinks\n",
    "\n",
    "~$ elinks "
   ]
  },
  {
   "cell_type": "markdown",
   "id": "6a2a991e",
   "metadata": {},
   "source": [
    "or"
   ]
  },
  {
   "cell_type": "markdown",
   "id": "4496a53f",
   "metadata": {},
   "source": [
    "~$ ip addr\n",
    "\n",
    "~$ elinks http://(나의 ip)/ : 해당 서버로 접속"
   ]
  },
  {
   "cell_type": "markdown",
   "id": "50fc1b1f",
   "metadata": {},
   "source": [
    "### < localhost 사용 >\n",
    "**127. 0.0.1 = localhost**\n",
    "\n",
    "==> 위의 ip addr은 사용하는 인터넷 주소에 따라서 변하는 주소가 아니라\n",
    "항상 자기 자신을 가리키며 항상 같은 주소이다."
   ]
  }
 ],
 "metadata": {
  "kernelspec": {
   "display_name": "Python 3 (ipykernel)",
   "language": "python",
   "name": "python3"
  },
  "language_info": {
   "codemirror_mode": {
    "name": "ipython",
    "version": 3
   },
   "file_extension": ".py",
   "mimetype": "text/x-python",
   "name": "python",
   "nbconvert_exporter": "python",
   "pygments_lexer": "ipython3",
   "version": "3.8.12"
  }
 },
 "nbformat": 4,
 "nbformat_minor": 5
}
