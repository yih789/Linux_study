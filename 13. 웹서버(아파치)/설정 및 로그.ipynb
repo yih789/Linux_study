{
 "cells": [
  {
   "cell_type": "markdown",
   "id": "bbf5d91f",
   "metadata": {},
   "source": [
    "### < /etc/apache2 >"
   ]
  },
  {
   "cell_type": "markdown",
   "id": "a63928bc",
   "metadata": {},
   "source": [
    "~$ cd /etc/apache2/sites-enabled\n",
    "\n",
    "~$ nano 000-default.conf\n",
    "\n",
    "==> 위의 파일을 확인하면 DocumentRoot가 /var/www/html로 설정된 것이 확인된다.  \n",
    "==> 이는 사용자가 요청을 보냈을 때 서버가 해당 요청을 storage의 어떤 경로에서\n",
    "탐색할 것인지 지정한 것이다. 변경 가능"
   ]
  },
  {
   "cell_type": "markdown",
   "id": "d24afc5a",
   "metadata": {},
   "source": [
    "### < log 파일 확인 >\n",
    "~$ cd /var/log/apache2\n",
    "- access.log: 접속 정보\n",
    "- error.log: 에러 정보"
   ]
  }
 ],
 "metadata": {
  "kernelspec": {
   "display_name": "Python 3 (ipykernel)",
   "language": "python",
   "name": "python3"
  },
  "language_info": {
   "codemirror_mode": {
    "name": "ipython",
    "version": 3
   },
   "file_extension": ".py",
   "mimetype": "text/x-python",
   "name": "python",
   "nbconvert_exporter": "python",
   "pygments_lexer": "ipython3",
   "version": "3.8.12"
  }
 },
 "nbformat": 4,
 "nbformat_minor": 5
}
