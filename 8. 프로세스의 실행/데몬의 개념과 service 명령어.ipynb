{
 "cells": [
  {
   "cell_type": "markdown",
   "id": "034dcb0d",
   "metadata": {},
   "source": [
    "### · 데몬 프로그램이란?\n",
    "- 항상 실행되고 있는 프로그램을 의미한다.\n",
    "\n",
    "ex) 냉장고(데몬), TV(원할 때 켜고 끄고)  \n",
    "ex) 서버(데몬), 클라이언트"
   ]
  },
  {
   "cell_type": "markdown",
   "id": "b6ea5aac",
   "metadata": {},
   "source": [
    "=> /etc/init.d/에는 데몬 프로그램들이 저장되어 있다."
   ]
  },
  {
   "cell_type": "markdown",
   "id": "0866555c",
   "metadata": {},
   "source": [
    "## · service: 데몬 프로그램 조작어\n",
    "~$ sudo service apache2 start\n",
    "\n",
    "~$ sudo service apache2 stop"
   ]
  },
  {
   "cell_type": "markdown",
   "id": "ae3a5734",
   "metadata": {},
   "source": [
    "## · 데몬 프로그램 자동실행\n",
    "/etc/rc3.d/ - 콘솔 방식\n",
    "/etc/rc5.d/ - GUI 방식"
   ]
  },
  {
   "cell_type": "markdown",
   "id": "df1e9689",
   "metadata": {},
   "source": [
    "~$ cd rc2.d; ls -l;\n",
    "\n",
    "lrwxrwxrwx 1 root root 29 Dec  1 12:09 K01apache-htcacheclean -> ../init.d/apache-htcacheclean  \n",
    "lrwxrwxrwx 1 root root 15 Oct 21 23:30 S01acpid -> ../init.d/acpid  \n",
    "lrwxrwxrwx 1 root root 17 Dec  1 12:09 S01apache2 -> ../init.d/apache2  \n",
    "lrwxrwxrwx 1 root root 16 Oct 21 23:26 S01apport -> ../init.d/apport  \n",
    "... ...."
   ]
  },
  {
   "cell_type": "markdown",
   "id": "1629b6bb",
   "metadata": {},
   "source": [
    "==> S01apache2란 것은 /init.d/apache2에 대한 링크를 의미한다. (바로가기 같은 개념)  \n",
    "==> S는 컴퓨터가 시작될 때 해당 프로그램이 자동실행  \n",
    "==> K는 실행되지 않음을 의미  \n",
    "==> 01, 02같은 숫자는 우선순위를 의미한다.  "
   ]
  }
 ],
 "metadata": {
  "kernelspec": {
   "display_name": "Python 3 (ipykernel)",
   "language": "python",
   "name": "python3"
  },
  "language_info": {
   "codemirror_mode": {
    "name": "ipython",
    "version": 3
   },
   "file_extension": ".py",
   "mimetype": "text/x-python",
   "name": "python",
   "nbconvert_exporter": "python",
   "pygments_lexer": "ipython3",
   "version": "3.8.12"
  }
 },
 "nbformat": 4,
 "nbformat_minor": 5
}
