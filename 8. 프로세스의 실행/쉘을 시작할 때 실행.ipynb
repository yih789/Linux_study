{
 "cells": [
  {
   "cell_type": "markdown",
   "id": "3011b559",
   "metadata": {},
   "source": [
    "~$ echo $SHELL: 사용하고 있는 쉘의 디렉토리"
   ]
  },
  {
   "cell_type": "markdown",
   "id": "64152f38",
   "metadata": {},
   "source": [
    "~$ cd ~: 사용자의 홈 디릭토리\n",
    "\n",
    "~$ nano .bashrc: 이미 만들어져 있는 .bashrc를 열 수 있다.\n",
    "\n",
    "==> .bashrc란 bash 쉘이 처음 실행될 때 자동으로 실행하는 파일이고  \n",
    "안에 echo 'HI, bash'를 입력하면 쉘을 처음 실행할 때 콘솔에 출력되는 것을 볼 수 있다."
   ]
  },
  {
   "cell_type": "markdown",
   "id": "6af1c090",
   "metadata": {},
   "source": []
  },
  {
   "cell_type": "markdown",
   "id": "1f3ff654",
   "metadata": {},
   "source": [
    "### + 별칭\n",
    "~$ alias l='ls -al'  \n",
    "\n",
    "~$ alias c='clear'  \n",
    "\n",
    "~$ l  \n",
    "\n",
    "~$ c  "
   ]
  }
 ],
 "metadata": {
  "kernelspec": {
   "display_name": "Python 3 (ipykernel)",
   "language": "python",
   "name": "python3"
  },
  "language_info": {
   "codemirror_mode": {
    "name": "ipython",
    "version": 3
   },
   "file_extension": ".py",
   "mimetype": "text/x-python",
   "name": "python",
   "nbconvert_exporter": "python",
   "pygments_lexer": "ipython3",
   "version": "3.8.12"
  }
 },
 "nbformat": 4,
 "nbformat_minor": 5
}
