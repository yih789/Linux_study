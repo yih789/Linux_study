{
 "cells": [
  {
   "cell_type": "markdown",
   "id": "e0277c6a",
   "metadata": {},
   "source": [
    "## · crontab: 정기적으로 해야하는 작업을 저장하는 곳\n",
    "ex) 데이터 백업  \n",
    "ex) 현재시각 업데이트 등등"
   ]
  },
  {
   "cell_type": "markdown",
   "id": "babe7824",
   "metadata": {},
   "source": [
    "[crontab을 정의하는 파일 실행]  \n",
    "~$ crontab -e\n",
    "\n",
    "==> crontab expression 검색해서 사용\n",
    "\n",
    "\\# m h dom mon dow  \n",
    "\\# 분 시간 일 월 요일  \n",
    "\\# minute(0-59), hour(0-23), day of month(1-31), month(1-12), day of week(0-6) (Sunday = 0)  \n",
    "\\# */1 * * * * : 날짜 상관없이 1분마다  \n",
    "\\# 10 11 * * * : 날짜 상관없이 11시 10분에  "
   ]
  },
  {
   "cell_type": "markdown",
   "id": "c6719957",
   "metadata": {},
   "source": []
  },
  {
   "cell_type": "markdown",
   "id": "6ba5dafd",
   "metadata": {},
   "source": [
    "### [crontab]  \n",
    "*/1 * * * * date >> date.log 2>&1  \n",
    "==> 1분마다 date를 date.log에 저장한다. 이때 1(표준출력), 2(표준에러) 에러가 발생할 경우  \n",
    "2>&1 에러를 표준출력으로 리다이렉션하여 마찬가지로 date.log에 저장되게 한다."
   ]
  },
  {
   "cell_type": "markdown",
   "id": "9cd19b66",
   "metadata": {},
   "source": []
  },
  {
   "cell_type": "markdown",
   "id": "1c8ac368",
   "metadata": {},
   "source": [
    "## · tail: 파일의 끝 일부분을 출력하는 명령어\n",
    "~$ tail date.log\n",
    "\n",
    "~$ tail -f date.log  \n",
    "==> 모니터링 시스템 기능: 해당 파일에 변경사항이 있으면 바로 출력해준다.  "
   ]
  }
 ],
 "metadata": {
  "kernelspec": {
   "display_name": "Python 3 (ipykernel)",
   "language": "python",
   "name": "python3"
  },
  "language_info": {
   "codemirror_mode": {
    "name": "ipython",
    "version": 3
   },
   "file_extension": ".py",
   "mimetype": "text/x-python",
   "name": "python",
   "nbconvert_exporter": "python",
   "pygments_lexer": "ipython3",
   "version": "3.8.12"
  }
 },
 "nbformat": 4,
 "nbformat_minor": 5
}
