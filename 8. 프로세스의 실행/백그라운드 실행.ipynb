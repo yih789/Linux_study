{
 "cells": [
  {
   "cell_type": "markdown",
   "id": "ccd534b9",
   "metadata": {},
   "source": [
    "## · ctrl + z: 현재 실행중인 프로그램을 백그라운드로 보낸다.\n",
    "~$ nano background.html\n",
    "\n",
    "==> background.html 작성중에 완료하지 않고 잠시 다른 작업을 하고 싶다면 **'Ctrl + z'**를 눌러 현재 실행중인 프로그램을 백그라운드로 보내고 일시정지된다."
   ]
  },
  {
   "cell_type": "markdown",
   "id": "7fa99399",
   "metadata": {},
   "source": []
  },
  {
   "cell_type": "markdown",
   "id": "5d967e75",
   "metadata": {},
   "source": [
    "~$ fg: 백그라운드로 보낸 프로그램을 다시 foreground로 데려온다."
   ]
  },
  {
   "cell_type": "markdown",
   "id": "9361d45e",
   "metadata": {},
   "source": [
    "~$ jobs: 백그라운드에 있는 프로그램 목록, 여러 개의 백그라운드가 가능하다.  \n",
    "[2]   Stopped                 vi  \n",
    "[3]-  Stopped                 nano  \n",
    "[4]+  Stopped                 nano  \n",
    "==> +, -, 공백 순으로 fg를 수행하게 되고, 원하는 프로그램 지정도 가능\n",
    "\n",
    "~$ fg %2"
   ]
  },
  {
   "cell_type": "markdown",
   "id": "4d33bec9",
   "metadata": {},
   "source": []
  },
  {
   "cell_type": "markdown",
   "id": "7709ebaa",
   "metadata": {},
   "source": [
    "~$ kill -9 %id: 강제로 백그라운드 작업을 종료할 수 있다."
   ]
  },
  {
   "cell_type": "markdown",
   "id": "f574a128",
   "metadata": {},
   "source": [
    "## + &가 명령어 뒤에 붙으면 명령어가 실행될 때 백그라운드로 실행된다.\n",
    "~$ ls -alR / > result.txt 2> error.log &"
   ]
  },
  {
   "cell_type": "markdown",
   "id": "313db246",
   "metadata": {},
   "source": [
    "[사용 이유]  \n",
    "'ls -alR /' 처럼 많은 데이터 때문에 시간이 좀 걸리는 작업이 끝날 때까지 기다리지 않고 백그라운드로 실행되게 하여 실행하는 동안 다른 작업을 할 수 있다. "
   ]
  }
 ],
 "metadata": {
  "kernelspec": {
   "display_name": "Python 3 (ipykernel)",
   "language": "python",
   "name": "python3"
  },
  "language_info": {
   "codemirror_mode": {
    "name": "ipython",
    "version": 3
   },
   "file_extension": ".py",
   "mimetype": "text/x-python",
   "name": "python",
   "nbconvert_exporter": "python",
   "pygments_lexer": "ipython3",
   "version": "3.8.12"
  }
 },
 "nbformat": 4,
 "nbformat_minor": 5
}
