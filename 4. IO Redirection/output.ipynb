{
 "cells": [
  {
   "cell_type": "markdown",
   "id": "de1be5ef",
   "metadata": {},
   "source": [
    "## · Output의 방향을 redirection\n",
    "\n",
    "1. 입력 : -al  \n",
    "2. 프로그램: ls  \n",
    "3. 출력: ls -al에 대한 결과가 모니터에 출력\n",
    "\n",
    "==> 'ls -al'의 출력 방향을 result.txt로 변경  \n",
    "~$ ls -al > result.txt"
   ]
  },
  {
   "cell_type": "markdown",
   "id": "a62448b8",
   "metadata": {},
   "source": [
    "## · 프로그램의 출력은 크게 두 가지로 볼 수 있다.\n",
    "1. standard output\n",
    "2. error\n",
    "\n",
    "### \\- 기본출력은 1>,  에러 출력은 2>  \n",
    "따라서  \n",
    "~$ rm result.txt에서 에러가 발생할 때\n",
    "\n",
    "~$ rm result.txt > error.log라고 명령하면 리다이렉션 이루어지지 않는다.\n",
    "\n",
    "~$ rm result.txt 2 > error.log가 옳다.\n",
    "\n",
    "### \\- 기본출력과 에러에 모두 대응\n",
    "~$ rm result.txt 1> result.txt 2> error.log"
   ]
  }
 ],
 "metadata": {
  "kernelspec": {
   "display_name": "Python 3 (ipykernel)",
   "language": "python",
   "name": "python3"
  },
  "language_info": {
   "codemirror_mode": {
    "name": "ipython",
    "version": 3
   },
   "file_extension": ".py",
   "mimetype": "text/x-python",
   "name": "python",
   "nbconvert_exporter": "python",
   "pygments_lexer": "ipython3",
   "version": "3.8.12"
  }
 },
 "nbformat": 4,
 "nbformat_minor": 5
}
