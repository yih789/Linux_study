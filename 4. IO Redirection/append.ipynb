{
 "cells": [
  {
   "cell_type": "markdown",
   "id": "97f09297",
   "metadata": {},
   "source": [
    "## > (덮어쓰기)\n",
    "**~$ ls -al > result.txt**\n",
    "\n",
    "## >> (append)\n",
    "==>출력 내용을 저장할 때 result.txt의 기존 내용을 지우고 새로운 내용을 **덮어쓰게** 된다."
   ]
  },
  {
   "cell_type": "markdown",
   "id": "1e9932ee",
   "metadata": {},
   "source": [
    "**~$ ls -al >> result.txt**  \n",
    "==> 기존의 내용을 그대로 두고 새로운 내용을 추가하게 된다."
   ]
  },
  {
   "cell_type": "markdown",
   "id": "b46b8dfc",
   "metadata": {},
   "source": [
    "## · 번외\n",
    "~$ mail egoing@gmail.com << end\n",
    "> hi  \n",
    "> my  \n",
    "> name  \n",
    "> is  \n",
    "> egoing  \n",
    "> end  \n",
    "\n",
    "==> <<은 여러 개의 입력을 의미하고, <<뒤의 문자는 end뿐 아니라 뭐든지 상관없다.\n",
    "이것은 해당 문자가 나오면 입력을 종료한다는 의미이다."
   ]
  }
 ],
 "metadata": {
  "kernelspec": {
   "display_name": "Python 3 (ipykernel)",
   "language": "python",
   "name": "python3"
  },
  "language_info": {
   "codemirror_mode": {
    "name": "ipython",
    "version": 3
   },
   "file_extension": ".py",
   "mimetype": "text/x-python",
   "name": "python",
   "nbconvert_exporter": "python",
   "pygments_lexer": "ipython3",
   "version": "3.8.12"
  }
 },
 "nbformat": 4,
 "nbformat_minor": 5
}
