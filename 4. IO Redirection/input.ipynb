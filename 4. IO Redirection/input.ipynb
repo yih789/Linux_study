{
 "cells": [
  {
   "cell_type": "markdown",
   "id": "3fa78ab5",
   "metadata": {},
   "source": [
    "## · 프로그램의 입력은 크게 두 가지로 볼 수 있다.\n",
    "1. command-line arguments  \n",
    "2. standard input(키보드 입력)"
   ]
  },
  {
   "cell_type": "markdown",
   "id": "092aae66",
   "metadata": {},
   "source": [
    "### < 일반적인 cat 사용법 >\n",
    "~$ cat hello.txt: 파일의 내용을 출력해준다.\n",
    "\n",
    "### < 그냥 cat만 입력 >\n",
    "~$ cat  \n",
    "hi  \n",
    "hi\n",
    "\n",
    "==>사용자가 입력한 내용을 그대로 출력해준다.  \n",
    "따라서 hi가 입력값 hi가 출력값이 되는 것이다."
   ]
  },
  {
   "cell_type": "markdown",
   "id": "1e6efb9c",
   "metadata": {},
   "source": [
    "## · Input의 방향을 redirection\n",
    "~$ cat < hello.txt  \n",
    "==> hello.txt의 내용이 cat이라는 프로그램의 입력값으로 작용한다"
   ]
  },
  {
   "cell_type": "markdown",
   "id": "3d7f6ec7",
   "metadata": {},
   "source": [
    "## · head: 파일의 처음 몇 줄만 출력\n",
    "~$ head linux.txt\n",
    "\n",
    "~$ head -n1 linux.txt: '-n숫자' 옵션을 추가. 처음 한 줄만 출력\n",
    "\n",
    "~$ head -n1 < linux.txt\n",
    "이때.  -n1은 command-line arguments이고, linux.txt는 standard input이 된다.\n",
    "\n",
    "~$ head -n1 < linux.txt > one.txt\n",
    "linux.txt의 첫 번째 줄만 출력된 output을 one.txt 파일에 저장한다."
   ]
  }
 ],
 "metadata": {
  "kernelspec": {
   "display_name": "Python 3 (ipykernel)",
   "language": "python",
   "name": "python3"
  },
  "language_info": {
   "codemirror_mode": {
    "name": "ipython",
    "version": 3
   },
   "file_extension": ".py",
   "mimetype": "text/x-python",
   "name": "python",
   "nbconvert_exporter": "python",
   "pygments_lexer": "ipython3",
   "version": "3.8.12"
  }
 },
 "nbformat": 4,
 "nbformat_minor": 5
}
