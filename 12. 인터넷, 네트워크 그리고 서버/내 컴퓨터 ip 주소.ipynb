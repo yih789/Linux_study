{
 "cells": [
  {
   "cell_type": "markdown",
   "id": "7c6879a5",
   "metadata": {},
   "source": [
    "~$ ip addr: 자신의 컴퓨터 ip주소 출력\n",
    "\n",
    "~$ curl google.com: 사이트 접속\n",
    "\n",
    "~$ curl ipinfo.io/ip: 외부에서 보는 내 컴퓨터 ip주소를 알려주는 사이트"
   ]
  }
 ],
 "metadata": {
  "kernelspec": {
   "display_name": "Python 3 (ipykernel)",
   "language": "python",
   "name": "python3"
  },
  "language_info": {
   "codemirror_mode": {
    "name": "ipython",
    "version": 3
   },
   "file_extension": ".py",
   "mimetype": "text/x-python",
   "name": "python",
   "nbconvert_exporter": "python",
   "pygments_lexer": "ipython3",
   "version": "3.8.12"
  }
 },
 "nbformat": 4,
 "nbformat_minor": 5
}
