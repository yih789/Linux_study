{
 "cells": [
  {
   "cell_type": "markdown",
   "id": "4d4225a2",
   "metadata": {},
   "source": [
    "### · 그룹이란 \n",
    "특정 사용자들을 묶는 것을 의미하고 group에 대해서 파일 권한(RWX)을 부여할 수 있다."
   ]
  },
  {
   "cell_type": "markdown",
   "id": "b46a5f4e",
   "metadata": {},
   "source": [
    "## · groupadd: 그룹을 생성\n",
    "\n",
    "~$ groupadd 그룹명\n",
    "\n",
    "~$ nano /etc/group: group의 정보를 담고있다."
   ]
  },
  {
   "cell_type": "markdown",
   "id": "99457c76",
   "metadata": {},
   "source": [
    "## · 사용자를 그룹에 추가\n",
    "~$ usermod -a -G 그룹명 사용자명"
   ]
  },
  {
   "cell_type": "markdown",
   "id": "8ab0603d",
   "metadata": {},
   "source": [
    "## · chown: 디렉토리 또는 파일의 사용자와 그룹을 변경\n",
    "~$ chown 사용자:그룹 디릭토리명 또는 파일명\n",
    "\n",
    "ex) chown ubuntu:developer perm"
   ]
  }
 ],
 "metadata": {
  "kernelspec": {
   "display_name": "Python 3 (ipykernel)",
   "language": "python",
   "name": "python3"
  },
  "language_info": {
   "codemirror_mode": {
    "name": "ipython",
    "version": 3
   },
   "file_extension": ".py",
   "mimetype": "text/x-python",
   "name": "python",
   "nbconvert_exporter": "python",
   "pygments_lexer": "ipython3",
   "version": "3.8.12"
  }
 },
 "nbformat": 4,
 "nbformat_minor": 5
}
