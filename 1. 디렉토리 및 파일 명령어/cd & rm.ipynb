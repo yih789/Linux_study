{
 "cells": [
  {
   "cell_type": "markdown",
   "id": "60a5b570",
   "metadata": {},
   "source": [
    "## · cd: 현재 디렉토리 위치 변경\n",
    "1. .: 현재 디렉토리\n",
    "2. ..: 상위 디렉토리\n",
    "\n",
    "==> ..은 상대경로이고, home/ubuntu/는 절대경로이다."
   ]
  },
  {
   "cell_type": "markdown",
   "id": "94240f87",
   "metadata": {},
   "source": [
    "## · rm: 파일 삭제\n",
    "1. ~$ rm **파일명**: 파일을 삭제한다. \n",
    "\n",
    "2. ~$ rm -r **디렉토리명**: 디렉토리를 삭제한다.\n",
    "\n",
    "==> 디렉토리 안에는 다른 하위 파일이 존재하기 때문에 rm으로 삭제되지 않고 -r 옵션을 추가해야 한다."
   ]
  },
  {
   "cell_type": "markdown",
   "id": "f75e7ec6",
   "metadata": {},
   "source": [
    "## 번외) --help: 명령어의 사용설명서 출력\n",
    "1. ex) ls --help\n",
    "\n",
    "2. ex) rm --help"
   ]
  }
 ],
 "metadata": {
  "kernelspec": {
   "display_name": "Python 3 (ipykernel)",
   "language": "python",
   "name": "python3"
  },
  "language_info": {
   "codemirror_mode": {
    "name": "ipython",
    "version": 3
   },
   "file_extension": ".py",
   "mimetype": "text/x-python",
   "name": "python",
   "nbconvert_exporter": "python",
   "pygments_lexer": "ipython3",
   "version": "3.8.12"
  }
 },
 "nbformat": 4,
 "nbformat_minor": 5
}
