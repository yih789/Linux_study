{
 "cells": [
  {
   "cell_type": "markdown",
   "id": "cf70a395",
   "metadata": {},
   "source": [
    "## · ls: 현재 디렉토리의 파일 목록을 출력\n",
    "1. ~$ ls -l: 파일 목록을 자세히 출력\n",
    "\n",
    "2. ~$ ls -a: 숨김 파일까지 모두 출력\n",
    "\n",
    "3. ~$ ls -al: '-a + -l' 숨김 파일까지 자세히 출력\n",
    "\n",
    "4. ~$ ls -alS: 정렬되어 출력  \n",
    "==> 위처럼 명령어 여러 개를 같이 사용할 수 있다.  \n",
    "==> .파일은 감춰진 파일"
   ]
  },
  {
   "cell_type": "markdown",
   "id": "885b1d18",
   "metadata": {},
   "source": [
    "## · pwd: 현재 위치하는 디렉토리의 주소 출력"
   ]
  },
  {
   "cell_type": "markdown",
   "id": "058cdd85",
   "metadata": {},
   "source": [
    "## · mkdir: 디렉토리 생성\n",
    "~$ mkdir **디렉토리명**: 새 디렉토리 생성"
   ]
  },
  {
   "cell_type": "markdown",
   "id": "b87dc296",
   "metadata": {},
   "source": [
    "## · touch: 빈 파일 생성\n",
    "~$ touch **파일명**: 빈 파일을 생성"
   ]
  }
 ],
 "metadata": {
  "kernelspec": {
   "display_name": "Python 3 (ipykernel)",
   "language": "python",
   "name": "python3"
  },
  "language_info": {
   "codemirror_mode": {
    "name": "ipython",
    "version": 3
   },
   "file_extension": ".py",
   "mimetype": "text/x-python",
   "name": "python",
   "nbconvert_exporter": "python",
   "pygments_lexer": "ipython3",
   "version": "3.8.12"
  }
 },
 "nbformat": 4,
 "nbformat_minor": 5
}
