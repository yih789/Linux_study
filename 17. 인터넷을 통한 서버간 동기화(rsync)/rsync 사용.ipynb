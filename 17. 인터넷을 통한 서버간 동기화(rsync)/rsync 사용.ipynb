{
 "cells": [
  {
   "cell_type": "markdown",
   "id": "2f46e6e0",
   "metadata": {},
   "source": [
    "## · < 네트워크 상에서 동기화 >\n",
    "우선  \n",
    "~$ ip addr을 통해서 파일을 전송하려는 컴퓨터의 ip 주소를 알아낸다."
   ]
  },
  {
   "cell_type": "markdown",
   "id": "7b7dbc43",
   "metadata": {},
   "source": [
    "\\$ rsync -azP \\~/rsync/src/ k8805@172.31.1.127:\\~/rsync/dest\n",
    "\n",
    "==> 나의 홈디렉토리 아래 rsync/src 아래의 모든 디렉토리와 파일을 172.31.1.127 컴퓨터의 k8805 사용자의 홈디렉토리 아래 rsync/dest에 동기화한다."
   ]
  }
 ],
 "metadata": {
  "kernelspec": {
   "display_name": "Python 3 (ipykernel)",
   "language": "python",
   "name": "python3"
  },
  "language_info": {
   "codemirror_mode": {
    "name": "ipython",
    "version": 3
   },
   "file_extension": ".py",
   "mimetype": "text/x-python",
   "name": "python",
   "nbconvert_exporter": "python",
   "pygments_lexer": "ipython3",
   "version": "3.8.12"
  }
 },
 "nbformat": 4,
 "nbformat_minor": 5
}
