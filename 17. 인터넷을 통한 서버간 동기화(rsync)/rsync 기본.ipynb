{
 "cells": [
  {
   "cell_type": "markdown",
   "id": "414537ec",
   "metadata": {},
   "source": [
    "## · rsync(remote sync): 원격 동기화 기능\n",
    "\n",
    "~$ mkdir rsync\n",
    "\n",
    "~$ cd rsync\n",
    "\n",
    "~$ mkdir src\n",
    "\n",
    "~$ mkdir dest\n",
    "\n",
    "~$ cd /rsync/src\n",
    "\n",
    "~$ touch test{1..10}: test1부터 test10까지 파일 생성\n",
    "\n",
    "~$ rsync -a src/ dest: -a모드로 src 아래 모든 하위 디렉토리 및 파일을 dest에 동기화한다.\n",
    "\n",
    "==> **archive 모드**에서는 dest 파일의 일부 파일을 삭제 후 다시 src 파일을 dest 파일에 동기화하면 **동일한 부분을 제외**하고 동기화한다."
   ]
  }
 ],
 "metadata": {
  "kernelspec": {
   "display_name": "Python 3 (ipykernel)",
   "language": "python",
   "name": "python3"
  },
  "language_info": {
   "codemirror_mode": {
    "name": "ipython",
    "version": 3
   },
   "file_extension": ".py",
   "mimetype": "text/x-python",
   "name": "python",
   "nbconvert_exporter": "python",
   "pygments_lexer": "ipython3",
   "version": "3.8.12"
  }
 },
 "nbformat": 4,
 "nbformat_minor": 5
}
