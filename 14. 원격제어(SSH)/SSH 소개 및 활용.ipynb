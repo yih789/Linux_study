{
 "cells": [
  {
   "cell_type": "markdown",
   "id": "3b879387",
   "metadata": {},
   "source": [
    "## · SSH(Secure Shell)\n",
    "- 원격의 컴퓨터(인터넷 너머의 컴퓨터)를 마치 내 컴퓨터 처럼 사용할 수 있게 하는 인터넷 프로토콜이다. 원격제어."
   ]
  },
  {
   "cell_type": "markdown",
   "id": "df12dc9d",
   "metadata": {},
   "source": [
    "client(SSH client) <-> server(SSH server)  \n",
    "==> 사용자(나)가 SSH를 통해서 명렁어를 입력하여 SSH server로 전달하면 SSH server가 명령어를 자신이 설치된 server로부터 결과를 받아 다시 client로 전달"
   ]
  }
 ],
 "metadata": {
  "kernelspec": {
   "display_name": "Python 3 (ipykernel)",
   "language": "python",
   "name": "python3"
  },
  "language_info": {
   "codemirror_mode": {
    "name": "ipython",
    "version": 3
   },
   "file_extension": ".py",
   "mimetype": "text/x-python",
   "name": "python",
   "nbconvert_exporter": "python",
   "pygments_lexer": "ipython3",
   "version": "3.8.12"
  }
 },
 "nbformat": 4,
 "nbformat_minor": 5
}
