{
 "cells": [
  {
   "cell_type": "markdown",
   "id": "f23e6464",
   "metadata": {},
   "source": [
    "## · SSH를 이용하여 로그인 없이 접속하도록 설정\n",
    "ex) 서버1에서 서버2로 데이터를 동기화하려면 서버2의 접속을 위해서 로그인이 필요한데 이것을 SSH 기법으로 로그인 없이 동기화하는 작업을 수행하려 한다.\n",
    "1. 서버1에서 public key와 private key를 생성한다.\n",
    "2. 서버2의 authorized_keys 파일에 서버1에서 생성한 public key를 append로 저장한다."
   ]
  },
  {
   "cell_type": "markdown",
   "id": "634c1125",
   "metadata": {},
   "source": [
    "### 서버1\n",
    "~$ ssh-keygen: id_rsa와 id_rsa.pub를 생성\n",
    "\n",
    "==> ~/.ssh에 저장된다.\n",
    "\n",
    "~/.ssh$ ssh-copy-id 사용자@서버2 ip"
   ]
  },
  {
   "cell_type": "markdown",
   "id": "b52b6890",
   "metadata": {},
   "source": [
    "### 서버2\n",
    "~$ cd ~/.ssh\n",
    "\n",
    "==> .ssh 아래에 authorized_keys 파일에 서버1의 id_rsa.pub의 내용을 append로 저장"
   ]
  }
 ],
 "metadata": {
  "kernelspec": {
   "display_name": "Python 3 (ipykernel)",
   "language": "python",
   "name": "python3"
  },
  "language_info": {
   "codemirror_mode": {
    "name": "ipython",
    "version": 3
   },
   "file_extension": ".py",
   "mimetype": "text/x-python",
   "name": "python",
   "nbconvert_exporter": "python",
   "pygments_lexer": "ipython3",
   "version": "3.8.12"
  }
 },
 "nbformat": 4,
 "nbformat_minor": 5
}
