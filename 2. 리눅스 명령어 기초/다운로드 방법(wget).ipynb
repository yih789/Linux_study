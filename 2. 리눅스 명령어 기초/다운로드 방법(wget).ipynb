{
 "cells": [
  {
   "cell_type": "markdown",
   "id": "98cd6bfe",
   "metadata": {},
   "source": [
    "## · wget: linux 명령창에서 웹에 있는 파일을 다운로드"
   ]
  },
  {
   "cell_type": "markdown",
   "id": "f6bf0a07",
   "metadata": {},
   "source": [
    "~$ wget **link address**  \n",
    " ==> link address: 다운로드 파일의 링크주소를 copy하여 사용\n",
    " \n",
    "~$ wget -O **파일명** **link address**  \n",
    "원하는 파일명으로 다운로드"
   ]
  }
 ],
 "metadata": {
  "kernelspec": {
   "display_name": "Python 3 (ipykernel)",
   "language": "python",
   "name": "python3"
  },
  "language_info": {
   "codemirror_mode": {
    "name": "ipython",
    "version": 3
   },
   "file_extension": ".py",
   "mimetype": "text/x-python",
   "name": "python",
   "nbconvert_exporter": "python",
   "pygments_lexer": "ipython3",
   "version": "3.8.12"
  }
 },
 "nbformat": 4,
 "nbformat_minor": 5
}
