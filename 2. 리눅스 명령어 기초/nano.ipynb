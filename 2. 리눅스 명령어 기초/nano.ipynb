{
 "cells": [
  {
   "cell_type": "markdown",
   "id": "baeea804",
   "metadata": {},
   "source": [
    "## · nano vs vi: 리눅스 파일편집기\n",
    "\\- 초보자는 nano 추천 but 조금 불편"
   ]
  },
  {
   "cell_type": "markdown",
   "id": "53d5fdb6",
   "metadata": {},
   "source": [
    "[ 기초 ]\n",
    "1. ctrl + O: 쓰기 완료\n",
    "2. ctrl + w: 검색\n",
    "3. ctrl + k: 한 줄 잘라내기\n",
    "4. ctrl + u: 붙여넣기"
   ]
  },
  {
   "cell_type": "markdown",
   "id": "006278f7",
   "metadata": {},
   "source": [
    "==> nano는 복사, 붙여넣기 기능이 없어 위의 단축키 사용\n",
    "==> ctrl + 6: 마크업을 통해 내가 원하는 부분을 커서로 지정할 수 있다."
   ]
  }
 ],
 "metadata": {
  "kernelspec": {
   "display_name": "Python 3 (ipykernel)",
   "language": "python",
   "name": "python3"
  },
  "language_info": {
   "codemirror_mode": {
    "name": "ipython",
    "version": 3
   },
   "file_extension": ".py",
   "mimetype": "text/x-python",
   "name": "python",
   "nbconvert_exporter": "python",
   "pygments_lexer": "ipython3",
   "version": "3.8.12"
  }
 },
 "nbformat": 4,
 "nbformat_minor": 5
}
