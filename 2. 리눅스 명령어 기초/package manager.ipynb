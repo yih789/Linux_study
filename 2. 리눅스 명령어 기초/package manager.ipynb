{
 "cells": [
  {
   "cell_type": "markdown",
   "id": "f2bd85dd",
   "metadata": {},
   "source": [
    "## · Package Manager: 필요한 프로그램 다운(앱스토어)\n",
    "### Linux package manager: **'apt-get'**"
   ]
  },
  {
   "cell_type": "markdown",
   "id": "943742b7",
   "metadata": {},
   "source": [
    "### \\- apt-get\n",
    "1. ~$ apt-get update: 다운받을 수 있는 **소프트웨어의 목록**을 최신 상태로 갱신\n",
    "\n",
    "2. ~$ apt-get install **프로그램**: 프로그램 다운로드\n",
    "\n",
    "3. ~$ apt-get remove **프로그램**: 프로그램 삭제\n",
    "\n",
    "4. ~$ apt-get upgrade **프로그램**: 해당 프로그램을 최신 상태로 업그레이드\n",
    "\n",
    "5. ~$ apt-get upgrade: 모든 프로그램을 업그레이드"
   ]
  },
  {
   "cell_type": "markdown",
   "id": "4cc5b044",
   "metadata": {},
   "source": [
    "~$ apt-cache search 다운받을 프로그램명: 다운받을 수 있는 소프트웨어 목록 중에서 해당 프로그램을 검색"
   ]
  }
 ],
 "metadata": {
  "kernelspec": {
   "display_name": "Python 3 (ipykernel)",
   "language": "python",
   "name": "python3"
  },
  "language_info": {
   "codemirror_mode": {
    "name": "ipython",
    "version": 3
   },
   "file_extension": ".py",
   "mimetype": "text/x-python",
   "name": "python",
   "nbconvert_exporter": "python",
   "pygments_lexer": "ipython3",
   "version": "3.8.12"
  }
 },
 "nbformat": 4,
 "nbformat_minor": 5
}
