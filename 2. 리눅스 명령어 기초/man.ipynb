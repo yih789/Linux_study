{
 "cells": [
  {
   "cell_type": "markdown",
   "id": "2e8ecfe6",
   "metadata": {},
   "source": [
    "## man: 명렁어 사용설명서\n",
    "==> --help와 유사하지만 전용 창으로 들어가서 상세히 설명\n",
    "\n",
    "[ man 설명서 단축키 ]\n",
    "1. /키워드: 해당 단어를 찾아준다.\n",
    "2. 위의 키워드만 skip해서 보고 싶다면 n키 입력\n",
    "3. 그냥 내려보고 싶다면 화살표 키보드 이용"
   ]
  }
 ],
 "metadata": {
  "kernelspec": {
   "display_name": "Python 3 (ipykernel)",
   "language": "python",
   "name": "python3"
  },
  "language_info": {
   "codemirror_mode": {
    "name": "ipython",
    "version": 3
   },
   "file_extension": ".py",
   "mimetype": "text/x-python",
   "name": "python",
   "nbconvert_exporter": "python",
   "pygments_lexer": "ipython3",
   "version": "3.8.12"
  }
 },
 "nbformat": 4,
 "nbformat_minor": 5
}
