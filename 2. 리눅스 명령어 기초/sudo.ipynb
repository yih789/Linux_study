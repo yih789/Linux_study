{
 "cells": [
  {
   "cell_type": "markdown",
   "id": "5f1ec2cf",
   "metadata": {},
   "source": [
    "## · sudo(super user do)\n",
    "\\- 한 대의 컴퓨터를 여러 사용자가 사용하면서 파일에 대한 권한을 부여하게 됐다.  \n",
    "(Permission denied): 권한이 맞지 않으면 오류 발생  \n",
    "이때 sudo를 붙여주면 해결"
   ]
  }
 ],
 "metadata": {
  "kernelspec": {
   "display_name": "Python 3 (ipykernel)",
   "language": "python",
   "name": "python3"
  },
  "language_info": {
   "codemirror_mode": {
    "name": "ipython",
    "version": 3
   },
   "file_extension": ".py",
   "mimetype": "text/x-python",
   "name": "python",
   "nbconvert_exporter": "python",
   "pygments_lexer": "ipython3",
   "version": "3.8.12"
  }
 },
 "nbformat": 4,
 "nbformat_minor": 5
}
