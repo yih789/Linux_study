{
 "cells": [
  {
   "cell_type": "markdown",
   "id": "eb611d91",
   "metadata": {},
   "source": [
    "## · 필요한 명령은 그때마다 검색해서 사용하는 습관을 갖자.\n",
    "ex) copy file in linux, remove file in linux  \n",
    "==> 영어 전체를 해석하려 하지 말고, syntax와 예제를 집중적으로 보자."
   ]
  },
  {
   "cell_type": "markdown",
   "id": "1d4486b9",
   "metadata": {},
   "source": [
    "## · mv: 파일 위치 변경\n",
    "~$ mv **파일명** **디렉토리명**: 파일을 해당 디렉토리로 이동"
   ]
  },
  {
   "cell_type": "markdown",
   "id": "7d6f1019",
   "metadata": {},
   "source": [
    "## · 리눅스는 파일 이름을 변경할 때도 mv를 사용한다.\n",
    "~$ mv **기존 파일명** **새로운 파일명**  \n",
    "ex) mv oldfile.txt newfile.txt"
   ]
  }
 ],
 "metadata": {
  "kernelspec": {
   "display_name": "Python 3 (ipykernel)",
   "language": "python",
   "name": "python3"
  },
  "language_info": {
   "codemirror_mode": {
    "name": "ipython",
    "version": 3
   },
   "file_extension": ".py",
   "mimetype": "text/x-python",
   "name": "python",
   "nbconvert_exporter": "python",
   "pygments_lexer": "ipython3",
   "version": "3.8.12"
  }
 },
 "nbformat": 4,
 "nbformat_minor": 5
}
