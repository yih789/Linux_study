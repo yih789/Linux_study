{
 "cells": [
  {
   "cell_type": "markdown",
   "id": "f388c156",
   "metadata": {},
   "source": [
    "## · git: 버전 관리 시스템  \n",
    "## · git-hub: 오픈소스 저장소"
   ]
  },
  {
   "cell_type": "markdown",
   "id": "ffee3d8e",
   "metadata": {},
   "source": [
    "### 오픈소스를 다운받는 방법 2가지\n",
    "1. 파일 또는 압축파일의 형태로 내 컴퓨터에 다운받는다.\n",
    "2. git clone 통해서 command 라인에서 다운받는다.  \n",
    "- git clone [소스코드 주소][다운받을 디렉토리명]"
   ]
  }
 ],
 "metadata": {
  "kernelspec": {
   "display_name": "Python 3 (ipykernel)",
   "language": "python",
   "name": "python3"
  },
  "language_info": {
   "codemirror_mode": {
    "name": "ipython",
    "version": 3
   },
   "file_extension": ".py",
   "mimetype": "text/x-python",
   "name": "python",
   "nbconvert_exporter": "python",
   "pygments_lexer": "ipython3",
   "version": "3.8.12"
  }
 },
 "nbformat": 4,
 "nbformat_minor": 5
}
