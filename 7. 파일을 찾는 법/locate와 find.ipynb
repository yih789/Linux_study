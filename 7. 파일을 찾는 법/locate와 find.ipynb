{
 "cells": [
  {
   "cell_type": "markdown",
   "id": "272da1de",
   "metadata": {},
   "source": [
    "## · 파일 용도\n",
    "1. 데이터 보관  2. 실행파일"
   ]
  },
  {
   "cell_type": "markdown",
   "id": "04046c58",
   "metadata": {},
   "source": [
    "### 1. locate\n",
    "~$ locate *.log  \n",
    "\n",
    "==> locate는 디렉토리를 뒤져서 파일을 찾는 방식이 아니라 파일 정보가 저장된 데이터베이스(mlocate)에서 위치 정보를 가져오기 때문에 검색 속도가 빠르다.  \n",
    "==> ~$ sudo updatedb를 수행해줘야 최신의 파일 상태에서 검색할 수 있다."
   ]
  },
  {
   "cell_type": "markdown",
   "id": "bf4189f5",
   "metadata": {},
   "source": [
    "### 2. find: 파일 탐색 중 top이고, 사용법이 많으니 필요시 검색하여 사용\n",
    "\n",
    "~$ find ~ -name *.log: 해당 디렉토리에서 filename='*.log'인 파일을 탐색한다.\n",
    "\n",
    "~$ find . -type f -name \\*.log : 현재 디렉토리에서 타입이 파일이고, filename ='\\*.log'인 것을 탐색한다.\n",
    "\n",
    "~$ find . -type f -name 'noerror.log' -exec rm -f {} \\\\; 해당 파일을 찾고 -exec을 이용하여\n",
    "명령을 수행할 수 있다. 이때, { }안에 find로 탐색된 파일이 들어간다."
   ]
  }
 ],
 "metadata": {
  "kernelspec": {
   "display_name": "Python 3 (ipykernel)",
   "language": "python",
   "name": "python3"
  },
  "language_info": {
   "codemirror_mode": {
    "name": "ipython",
    "version": 3
   },
   "file_extension": ".py",
   "mimetype": "text/x-python",
   "name": "python",
   "nbconvert_exporter": "python",
   "pygments_lexer": "ipython3",
   "version": "3.8.12"
  }
 },
 "nbformat": 4,
 "nbformat_minor": 5
}
