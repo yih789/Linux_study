{
 "cells": [
  {
   "cell_type": "markdown",
   "id": "1b252a35",
   "metadata": {},
   "source": [
    "## · whereis: 실행파일을 찾아주는 명령어\n",
    "\n",
    "~$ whereis ls  \n",
    "=> /usr/bin/ls\n",
    "\n",
    "~$ whereis rm  \n",
    "=> /usr/bin/rm"
   ]
  },
  {
   "cell_type": "markdown",
   "id": "27d60a86",
   "metadata": {},
   "source": [
    "## · +\n",
    "~$ ls \n",
    "\n",
    "처럼 ls의 경로(/usr/bin/ls)를 지정하지 않아도 어느 디렉토리에서나 ls를 사용할 수 있는 이유 바로 **$PATH라는 환경변수** 때문"
   ]
  },
  {
   "cell_type": "markdown",
   "id": "f59bd673",
   "metadata": {},
   "source": [
    "## · $PATH"
   ]
  },
  {
   "cell_type": "markdown",
   "id": "7aa6dc9d",
   "metadata": {},
   "source": [
    "~ echo $PATH\n",
    "\n",
    "=>  \n",
    "/usr/local/sbin:/usr/local/bin:/usr/sbin:/usr/bin:/sbin:/bin:/usr/games:/usr/local/games:/snap/bin"
   ]
  },
  {
   "cell_type": "markdown",
   "id": "839ddeba",
   "metadata": {},
   "source": [
    "우리가 ls 명령어를 입력하면 운영체제는 $PATH 변수에 저장된 디렉토리를 순차적으로 탐색하여\n",
    "ls가 있는지 확인하고 실행시켜 준다."
   ]
  }
 ],
 "metadata": {
  "kernelspec": {
   "display_name": "Python 3 (ipykernel)",
   "language": "python",
   "name": "python3"
  },
  "language_info": {
   "codemirror_mode": {
    "name": "ipython",
    "version": 3
   },
   "file_extension": ".py",
   "mimetype": "text/x-python",
   "name": "python",
   "nbconvert_exporter": "python",
   "pygments_lexer": "ipython3",
   "version": "3.8.12"
  }
 },
 "nbformat": 4,
 "nbformat_minor": 5
}
