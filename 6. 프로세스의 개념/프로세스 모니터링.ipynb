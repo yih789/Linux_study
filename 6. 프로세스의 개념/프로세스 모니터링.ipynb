{
 "cells": [
  {
   "cell_type": "markdown",
   "id": "8746994a",
   "metadata": {},
   "source": [
    "## · 실행중인 프로세스 확인\n",
    "1. ~$ ps: 실행중인 프로세스 목록\n",
    "\n",
    "2. ~$ ps aux: 백그라운드의 프로세스 목록까지 출력\n",
    "\n",
    "3. ~$ ps aux | greb apache: 파이프라인를 사용한 원하는 내용 출력"
   ]
  },
  {
   "cell_type": "markdown",
   "id": "ee02cb30",
   "metadata": {},
   "source": [
    "~$ sudo kill PID: 해당 프로세스를 죽일 수 있다.\n",
    "+ PID: processs ID"
   ]
  },
  {
   "cell_type": "markdown",
   "id": "3c94dba5",
   "metadata": {},
   "source": [
    "### + 번외: 더 실용적인 프로그램 top\n",
    "~$ sudo top\n",
    "\n",
    "~$ sudo htop: top보다 그래픽 기능이 뛰어나다."
   ]
  }
 ],
 "metadata": {
  "kernelspec": {
   "display_name": "Python 3 (ipykernel)",
   "language": "python",
   "name": "python3"
  },
  "language_info": {
   "codemirror_mode": {
    "name": "ipython",
    "version": 3
   },
   "file_extension": ".py",
   "mimetype": "text/x-python",
   "name": "python",
   "nbconvert_exporter": "python",
   "pygments_lexer": "ipython3",
   "version": "3.8.12"
  }
 },
 "nbformat": 4,
 "nbformat_minor": 5
}
