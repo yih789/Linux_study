{
 "cells": [
  {
   "cell_type": "markdown",
   "id": "3ab50b2c",
   "metadata": {},
   "source": [
    "## · 일반적인 컴퓨터 구조\n",
    "CPU(Processor) - Ram(Memory) - SSD,HDD(Storage)  \n",
    "\n",
    "저장장치의 데이터 전송 속도가 cpu의 연산 속도를 따라가지 못하기 때문에\n",
    "속도가 빠른 Memory를 중간에 두어 자주 사용하는 데이터 또는 프로그램을\n",
    "적재하여 사용"
   ]
  },
  {
   "cell_type": "markdown",
   "id": "71d7d7bd",
   "metadata": {},
   "source": [
    "- 프로그램: 명령어의 순차적인 집합\n",
    "- 프로세스: 현재 실행중인 프로그램\n",
    "- 프로세서: 프로세스를 실행하는 처리기"
   ]
  }
 ],
 "metadata": {
  "kernelspec": {
   "display_name": "Python 3 (ipykernel)",
   "language": "python",
   "name": "python3"
  },
  "language_info": {
   "codemirror_mode": {
    "name": "ipython",
    "version": 3
   },
   "file_extension": ".py",
   "mimetype": "text/x-python",
   "name": "python",
   "nbconvert_exporter": "python",
   "pygments_lexer": "ipython3",
   "version": "3.8.12"
  }
 },
 "nbformat": 4,
 "nbformat_minor": 5
}
